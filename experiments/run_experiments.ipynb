{
 "cells": [
  {
   "cell_type": "markdown",
   "metadata": {},
   "source": [
    "# General Purpose Exp Notebook \n",
    "\n",
    "This notebook has sections to train models, create uncertainty wrappers, and test the models. Experiment specific details are assumed to be contained in `config.py` in the experiment folder below."
   ]
  },
  {
   "cell_type": "code",
   "execution_count": 1,
   "metadata": {},
   "outputs": [],
   "source": [
    "%load_ext autoreload\n",
    "%autoreload 2\n",
    "\n",
    "EXP_FOLDER = 'wine'"
   ]
  },
  {
   "cell_type": "code",
   "execution_count": 2,
   "metadata": {},
   "outputs": [],
   "source": [
    "import sys\n",
    "import os\n",
    "sys.path.append(os.path.abspath(EXP_FOLDER))\n",
    "import config # imported from EXP_FOLDER\n",
    "import cProfile\n",
    "\n",
    "import torch"
   ]
  },
  {
   "cell_type": "markdown",
   "metadata": {},
   "source": [
    "## Train and save models\n",
    "Trains an ensemble of models as specified in config"
   ]
  },
  {
   "cell_type": "code",
   "execution_count": 4,
   "metadata": {
    "scrolled": true
   },
   "outputs": [
    {
     "name": "stdout",
     "output_type": "stream",
     "text": [
      "Training model 1 of 5\n"
     ]
    },
    {
     "data": {
      "application/vnd.jupyter.widget-view+json": {
       "model_id": "cb80b90f0835424eadbbb36c9c427f1b",
       "version_major": 2,
       "version_minor": 0
      },
      "text/plain": [
       "HBox(children=(HTML(value=''), FloatProgress(value=0.0, max=20.0), HTML(value='')))"
      ]
     },
     "metadata": {},
     "output_type": "display_data"
    },
    {
     "data": {
      "application/vnd.jupyter.widget-view+json": {
       "model_id": "fd18d24d0db84a638a67ead9d67841e0",
       "version_major": 2,
       "version_minor": 0
      },
      "text/plain": [
       "HBox(children=(HTML(value=''), FloatProgress(value=0.0, max=1000.0), HTML(value='')))"
      ]
     },
     "metadata": {},
     "output_type": "display_data"
    },
    {
     "name": "stdout",
     "output_type": "stream",
     "text": [
      "\n",
      "Training complete in 0m 23s\n",
      "Best val Loss: 1.147912\n",
      "Training model 2 of 5\n"
     ]
    },
    {
     "data": {
      "application/vnd.jupyter.widget-view+json": {
       "model_id": "34bb9ea5145841d78e0ccfd8b661c912",
       "version_major": 2,
       "version_minor": 0
      },
      "text/plain": [
       "HBox(children=(HTML(value=''), FloatProgress(value=0.0, max=20.0), HTML(value='')))"
      ]
     },
     "metadata": {},
     "output_type": "display_data"
    },
    {
     "data": {
      "application/vnd.jupyter.widget-view+json": {
       "model_id": "9446eb94201546ac91fc79d53f890e27",
       "version_major": 2,
       "version_minor": 0
      },
      "text/plain": [
       "HBox(children=(HTML(value=''), FloatProgress(value=0.0, max=1000.0), HTML(value='')))"
      ]
     },
     "metadata": {},
     "output_type": "display_data"
    },
    {
     "name": "stdout",
     "output_type": "stream",
     "text": [
      "\n",
      "Training complete in 0m 23s\n",
      "Best val Loss: 1.137073\n",
      "Training model 3 of 5\n"
     ]
    },
    {
     "data": {
      "application/vnd.jupyter.widget-view+json": {
       "model_id": "a87453c8cdbc4132b2a55db17a2da040",
       "version_major": 2,
       "version_minor": 0
      },
      "text/plain": [
       "HBox(children=(HTML(value=''), FloatProgress(value=0.0, max=20.0), HTML(value='')))"
      ]
     },
     "metadata": {},
     "output_type": "display_data"
    },
    {
     "data": {
      "application/vnd.jupyter.widget-view+json": {
       "model_id": "e37a20420a3e4ea7a3585a79e2dbd4b1",
       "version_major": 2,
       "version_minor": 0
      },
      "text/plain": [
       "HBox(children=(HTML(value=''), FloatProgress(value=0.0, max=1000.0), HTML(value='')))"
      ]
     },
     "metadata": {},
     "output_type": "display_data"
    },
    {
     "name": "stdout",
     "output_type": "stream",
     "text": [
      "\n",
      "Training complete in 0m 23s\n",
      "Best val Loss: 1.147115\n",
      "Training model 4 of 5\n"
     ]
    },
    {
     "data": {
      "application/vnd.jupyter.widget-view+json": {
       "model_id": "e79898e9561a4b7db480eb4ad940a240",
       "version_major": 2,
       "version_minor": 0
      },
      "text/plain": [
       "HBox(children=(HTML(value=''), FloatProgress(value=0.0, max=20.0), HTML(value='')))"
      ]
     },
     "metadata": {},
     "output_type": "display_data"
    },
    {
     "data": {
      "application/vnd.jupyter.widget-view+json": {
       "model_id": "6fbb46b905844b00be1dd925c43fa0f3",
       "version_major": 2,
       "version_minor": 0
      },
      "text/plain": [
       "HBox(children=(HTML(value=''), FloatProgress(value=0.0, max=1000.0), HTML(value='')))"
      ]
     },
     "metadata": {},
     "output_type": "display_data"
    },
    {
     "name": "stdout",
     "output_type": "stream",
     "text": [
      "\n",
      "Training complete in 0m 23s\n",
      "Best val Loss: 1.140256\n",
      "Training model 5 of 5\n"
     ]
    },
    {
     "data": {
      "application/vnd.jupyter.widget-view+json": {
       "model_id": "987694399930498191c6329dbbd93fd1",
       "version_major": 2,
       "version_minor": 0
      },
      "text/plain": [
       "HBox(children=(HTML(value=''), FloatProgress(value=0.0, max=20.0), HTML(value='')))"
      ]
     },
     "metadata": {},
     "output_type": "display_data"
    },
    {
     "data": {
      "application/vnd.jupyter.widget-view+json": {
       "model_id": "a700db746bec4ff090d59e18fa400fa6",
       "version_major": 2,
       "version_minor": 0
      },
      "text/plain": [
       "HBox(children=(HTML(value=''), FloatProgress(value=0.0, max=1000.0), HTML(value='')))"
      ]
     },
     "metadata": {},
     "output_type": "display_data"
    },
    {
     "name": "stdout",
     "output_type": "stream",
     "text": [
      "\n",
      "Training complete in 0m 23s\n",
      "Best val Loss: 1.145373\n",
      "saving models\n"
     ]
    }
   ],
   "source": [
    "from nn_ood.utils.train import train_ensemble\n",
    "models = train_ensemble(config.N_MODELS, \n",
    "                        config.make_model, \n",
    "                        config.dataset_class, \n",
    "                        config.dist_constructor, \n",
    "                        config.opt_class,\n",
    "                        config.opt_kwargs,\n",
    "                        config.sched_class,\n",
    "                        config.sched_kwargs,\n",
    "                        config.device,\n",
    "                        num_epochs=config.N_EPOCHS,\n",
    "                        batch_size=config.BATCH_SIZE)\n",
    "\n",
    "\n",
    "## SAVE MODEL\n",
    "print(\"saving models\")\n",
    "save_folder = os.path.join(EXP_FOLDER, 'models')\n",
    "if not os.path.exists(save_folder):\n",
    "    os.makedirs(save_folder)\n",
    "\n",
    "for i, model in enumerate(models):\n",
    "    filename = os.path.join(EXP_FOLDER, \"models\", config.FILENAME + \"_%d\" % i)\n",
    "    torch.save(model.state_dict(), filename)"
   ]
  },
  {
   "cell_type": "code",
   "execution_count": 5,
   "metadata": {},
   "outputs": [],
   "source": [
    "# clear memory\n",
    "del models"
   ]
  },
  {
   "cell_type": "markdown",
   "metadata": {},
   "source": [
    "## Process Data to create uncertainty wrappers\n",
    "Loops over data to create uncertainty wrappers, and saves them"
   ]
  },
  {
   "cell_type": "code",
   "execution_count": 6,
   "metadata": {
    "scrolled": true
   },
   "outputs": [
    {
     "name": "stdout",
     "output_type": "stream",
     "text": [
      "\n",
      "\n",
      "\n",
      "\n",
      "local_ensemble\n",
      "[hessian_eigenthings] beginning deflated power iteration\n",
      "[hessian_eigenthings] computing eigenvalue/vector 1 of 20\n",
      " [=============================================================>...]  Step: 135ms | Tot: 2s511ms | power iter error: 0.00 20/20 \n",
      "[hessian_eigenthings] eigenvalue 1: 518.8796\n",
      "[hessian_eigenthings] computing eigenvalue/vector 2 of 20\n",
      " [=============================================================>...]  Step: 126ms | Tot: 2s377ms | power iter error: 0.00 20/20 \n",
      "[hessian_eigenthings] eigenvalue 2: 80.0027\n",
      "[hessian_eigenthings] computing eigenvalue/vector 3 of 20\n",
      " [=============================================================>...]  Step: 127ms | Tot: 2s364ms | power iter error: 0.00 20/20 \n",
      "[hessian_eigenthings] eigenvalue 3: 19.6880\n",
      "[hessian_eigenthings] computing eigenvalue/vector 4 of 20\n",
      " [=============================================================>...]  Step: 126ms | Tot: 2s372ms | power iter error: 0.02 20/20 \n",
      "[hessian_eigenthings] eigenvalue 4: 11.7855\n",
      "[hessian_eigenthings] computing eigenvalue/vector 5 of 20\n",
      " [=============================================================>...]  Step: 124ms | Tot: 2s370ms | power iter error: 0.00 20/20 \n",
      "[hessian_eigenthings] eigenvalue 5: 8.6244\n",
      "[hessian_eigenthings] computing eigenvalue/vector 6 of 20\n",
      " [=============================================================>...]  Step: 124ms | Tot: 2s377ms | power iter error: 0.00 20/20 \n",
      "[hessian_eigenthings] eigenvalue 6: -9.4046\n",
      "[hessian_eigenthings] computing eigenvalue/vector 7 of 20\n",
      " [=============================================================>...]  Step: 123ms | Tot: 2s368ms | power iter error: 0.01 20/20 \n",
      "[hessian_eigenthings] eigenvalue 7: -8.4612\n",
      "[hessian_eigenthings] computing eigenvalue/vector 8 of 20\n",
      " [=============================================================>...]  Step: 131ms | Tot: 2s393ms | power iter error: 0.01 20/20 \n",
      "[hessian_eigenthings] eigenvalue 8: 6.7374\n",
      "[hessian_eigenthings] computing eigenvalue/vector 9 of 20\n",
      " [=============================================================>...]  Step: 124ms | Tot: 2s392ms | power iter error: 0.01 20/20 \n",
      "[hessian_eigenthings] eigenvalue 9: -7.6899\n",
      "[hessian_eigenthings] computing eigenvalue/vector 10 of 20\n",
      " [=============================================================>...]  Step: 138ms | Tot: 2s522ms | power iter error: 0.00 20/20 \n",
      "[hessian_eigenthings] eigenvalue 10: 7.0893\n",
      "[hessian_eigenthings] computing eigenvalue/vector 11 of 20\n",
      " [=============================================================>...]  Step: 123ms | Tot: 2s453ms | power iter error: 0.00 20/20 \n",
      "[hessian_eigenthings] eigenvalue 11: -6.5722\n",
      "[hessian_eigenthings] computing eigenvalue/vector 12 of 20\n",
      " [=============================================================>...]  Step: 125ms | Tot: 2s368ms | power iter error: 0.01 20/20 \n",
      "[hessian_eigenthings] eigenvalue 12: 6.4616\n",
      "[hessian_eigenthings] computing eigenvalue/vector 13 of 20\n",
      " [=============================================================>...]  Step: 126ms | Tot: 2s387ms | power iter error: 0.00 20/20 \n",
      "[hessian_eigenthings] eigenvalue 13: -6.0396\n",
      "[hessian_eigenthings] computing eigenvalue/vector 14 of 20\n"
     ]
    }
   ],
   "source": [
    "save_folder = os.path.join(EXP_FOLDER, 'times')\n",
    "if not os.path.exists(save_folder):\n",
    "    os.makedirs(save_folder)\n",
    "    \n",
    "## SET UP MODEL\n",
    "model = config.make_model()\n",
    "\n",
    "## LOAD MODEL\n",
    "filename = os.path.join(EXP_FOLDER, \"models\", config.FILENAME + \"_0\" )\n",
    "model.load_state_dict(torch.load(filename))\n",
    "model = model.to(config.device)\n",
    "model.eval()\n",
    "\n",
    "## SETUP DATASET\n",
    "dataset = config.dataset_class(\"train\", N=5000)\n",
    "\n",
    "## SET UP UNC WRAPPERS\n",
    "for name, info in config.prep_unc_models.items():\n",
    "    print(name)\n",
    "    \n",
    "    config.unfreeze_model(model)\n",
    "    if 'freeze' in info:\n",
    "        if type(info['freeze']) is bool:\n",
    "            freeze_frac = None\n",
    "        else:\n",
    "            freeze_frac = info['freeze']\n",
    "        config.freeze_model(model, freeze_frac=freeze_frac)        \n",
    "    \n",
    "    if 'apply_fn' is info:\n",
    "        model.apply(info['apply_fn'])\n",
    "\n",
    "    unc_model = info['class'](model, config.dist_constructor, info['kwargs'])\n",
    "\n",
    "    cProfile.run(\"\"\"\\n\n",
    "unc_model.process_dataset(dataset)\n",
    "    \"\"\", os.path.join(EXP_FOLDER, \"times\", name+\"_process.timing\") )\n",
    "\n",
    "    filename = os.path.join(EXP_FOLDER, \"models\", name+\"_\"+config.FILENAME)\n",
    "    torch.save(unc_model.state_dict(), filename)"
   ]
  },
  {
   "cell_type": "code",
   "execution_count": null,
   "metadata": {},
   "outputs": [],
   "source": [
    "# clear memory\n",
    "del model\n",
    "del unc_model"
   ]
  },
  {
   "cell_type": "markdown",
   "metadata": {},
   "source": [
    "## Test Uncertainty Wrappers\n",
    "Evaluates prediction and uncertainty estimate on various datasets"
   ]
  },
  {
   "cell_type": "code",
   "execution_count": null,
   "metadata": {},
   "outputs": [],
   "source": [
    "from nn_ood.utils.test import process_datasets\n",
    "\n",
    "# LOAD UNC_WRAPPERS\n",
    "print(\"Loading models\")\n",
    "models = []\n",
    "for i in range(config.N_MODELS):\n",
    "    print(\"loading model %d\" % i)\n",
    "    filename = os.path.join(EXP_FOLDER, 'models', config.FILENAME + \"_%d\" % i)\n",
    "    state_dict = torch.load(filename)\n",
    "    model = config.make_model()\n",
    "    model.load_state_dict(state_dict)\n",
    "    model.eval()\n",
    "    model.to(config.device)\n",
    "    models.append(model)\n",
    "\n",
    "model = models[0]"
   ]
  },
  {
   "cell_type": "markdown",
   "metadata": {},
   "source": [
    "### Test against OoD datasets"
   ]
  },
  {
   "cell_type": "code",
   "execution_count": null,
   "metadata": {},
   "outputs": [],
   "source": [
    "save_folder = os.path.join(EXP_FOLDER, 'results')\n",
    "if not os.path.exists(save_folder):\n",
    "    os.makedirs(save_folder)\n",
    "save_folder = os.path.join(EXP_FOLDER, 'times')\n",
    "if not os.path.exists(save_folder):\n",
    "    os.makedirs(save_folder)\n",
    "    \n",
    "for name, info in config.test_unc_models.items():\n",
    "    print(name)\n",
    "    \n",
    "    config.unfreeze_model(model)\n",
    "    if 'freeze' in info:\n",
    "        if type(info['freeze']) is bool:\n",
    "            freeze_frac = None\n",
    "        else:\n",
    "            freeze_frac = info['freeze']\n",
    "        config.freeze_model(model, freeze_frac=freeze_frac)        \n",
    "    \n",
    "    if 'apply_fn' is info:\n",
    "        model.apply(info['apply_fn'])\n",
    "        \n",
    "    if 'multi_model' in info:\n",
    "        unc_model = info['class'](models, config.dist_constructor, info['kwargs'])\n",
    "    else:\n",
    "        unc_model = info['class'](model, config.dist_constructor, info['kwargs'])\n",
    "    \n",
    "    if info['load_name'] is not None: \n",
    "        filename = os.path.join(EXP_FOLDER, \"models\", info['load_name']+\"_\"+config.FILENAME)\n",
    "        print(filename)\n",
    "        unc_model.load_state_dict(torch.load(filename))\n",
    "        unc_model.cuda()\n",
    "    \n",
    "    try:\n",
    "        cProfile.run(\"\"\"\\n\n",
    "results = process_datasets(config.dataset_class, \n",
    "                           config.test_dataset_args,\n",
    "                           unc_model, \n",
    "                           config.device,\n",
    "                           N=1000,\n",
    "                           **info['forward_kwargs'])\n",
    "        \"\"\", os.path.join(EXP_FOLDER, \"times\", name) )\n",
    "        savepath = os.path.join(EXP_FOLDER, \"results\", name)\n",
    "        torch.save(results, savepath)\n",
    "    except Exception as e:\n",
    "        print(e)"
   ]
  },
  {
   "cell_type": "markdown",
   "metadata": {},
   "source": [
    "### Test against noise"
   ]
  },
  {
   "cell_type": "code",
   "execution_count": null,
   "metadata": {},
   "outputs": [],
   "source": [
    "from nn_ood.utils.test import transform_sweep\n",
    "\n",
    "if \"transforms\" not in dir(config):\n",
    "    raise NameError(\"No transforms to test for this experiment\")\n",
    "    \n",
    "save_folder = os.path.join(EXP_FOLDER, 'results_transforms')\n",
    "if not os.path.exists(save_folder):\n",
    "    os.makedirs(save_folder)\n",
    "save_folder = os.path.join(EXP_FOLDER, 'times_transforms')\n",
    "if not os.path.exists(save_folder):\n",
    "    os.makedirs(save_folder)\n",
    "    \n",
    "for name, info in config.test_unc_models.items():\n",
    "    print(name)\n",
    "    \n",
    "    config.unfreeze_model(model)\n",
    "    if 'freeze' in info:\n",
    "        if type(info['freeze']) is bool:\n",
    "            freeze_frac = None\n",
    "        else:\n",
    "            freeze_frac = info['freeze']\n",
    "        config.freeze_model(model, freeze_frac=freeze_frac)        \n",
    "    \n",
    "    if 'apply_fn' is info:\n",
    "        model.apply(info['apply_fn'])\n",
    "        \n",
    "    if 'multi_model' in info:\n",
    "        unc_model = info['class'](models, config.dist_constructor, info['kwargs'])\n",
    "    else:\n",
    "        unc_model = info['class'](model, config.dist_constructor, info['kwargs'])\n",
    "    \n",
    "    if info['load_name'] is not None: \n",
    "        filename = os.path.join(EXP_FOLDER, \"models\", info['load_name']+\"_\"+config.FILENAME)\n",
    "        print(filename)\n",
    "        unc_model.load_state_dict(torch.load(filename))\n",
    "        unc_model.cuda()\n",
    "    \n",
    "\n",
    "    dataset = config.dataset_class(config.in_dist_splits[0],N=1000)\n",
    "    cProfile.run(\"\"\"\\n\n",
    "results = transform_sweep(dataset, \n",
    "                      config.transforms,\n",
    "                      unc_model, \n",
    "                      config.device,\n",
    "                      **info['forward_kwargs'])\n",
    "    \"\"\", os.path.join(EXP_FOLDER, \"times\", name) )\n",
    "    savepath = os.path.join(EXP_FOLDER, \"results\", name)\n",
    "    torch.save(results, savepath)\n"
   ]
  },
  {
   "cell_type": "code",
   "execution_count": null,
   "metadata": {},
   "outputs": [],
   "source": []
  }
 ],
 "metadata": {
  "kernelspec": {
   "display_name": "Python 3",
   "language": "python",
   "name": "python3"
  },
  "language_info": {
   "codemirror_mode": {
    "name": "ipython",
    "version": 3
   },
   "file_extension": ".py",
   "mimetype": "text/x-python",
   "name": "python",
   "nbconvert_exporter": "python",
   "pygments_lexer": "ipython3",
   "version": "3.6.9"
  }
 },
 "nbformat": 4,
 "nbformat_minor": 4
}
